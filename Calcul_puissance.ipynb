{
 "cells": [
  {
   "cell_type": "code",
   "execution_count": 33,
   "id": "236808d4-97fe-4538-ace5-24f9c9805d38",
   "metadata": {},
   "outputs": [
    {
     "name": "stdout",
     "output_type": "stream",
     "text": [
      "Nombre1 :  0.0112  =>  1.120000000e-02\n",
      "Nombre2 :  250  =>  2.500000000e+02\n",
      "2.800000000e+00\n"
     ]
    }
   ],
   "source": [
    "Nombre1 = 11.2\n",
    "Exposant1 = -3\n",
    "Puisance1 = 10\n",
    "Nombre1_P10 = Nombre1*Puisance1**Exposant1\n",
    "Nombre2 = 25\n",
    "Exposant2 = 1\n",
    "Puisance2 = 10\n",
    "Nombre2_P10 = Nombre2*Puisance2**Exposant2\n",
    "Exposant = 1\n",
    "\n",
    "Resultat = (Nombre1_P10 * Nombre2_P10)**Exposant\n",
    "\n",
    "print(\"Nombre1 : \", Nombre1_P10,\" => \" ,f\"{Nombre1_P10:.9e}\")\n",
    "print(\"Nombre2 : \", Nombre2_P10,\" => \" ,f\"{Nombre2_P10:.9e}\")\n",
    "\n",
    "print(f\"{Resultat:.9e}\")"
   ]
  },
  {
   "cell_type": "code",
   "execution_count": null,
   "id": "4db49901-0f41-42e8-b537-886acddd36a0",
   "metadata": {},
   "outputs": [],
   "source": []
  }
 ],
 "metadata": {
  "kernelspec": {
   "display_name": "Python 3 (ipykernel)",
   "language": "python",
   "name": "python3"
  },
  "language_info": {
   "codemirror_mode": {
    "name": "ipython",
    "version": 3
   },
   "file_extension": ".py",
   "mimetype": "text/x-python",
   "name": "python",
   "nbconvert_exporter": "python",
   "pygments_lexer": "ipython3",
   "version": "3.7.12"
  }
 },
 "nbformat": 4,
 "nbformat_minor": 5
}
